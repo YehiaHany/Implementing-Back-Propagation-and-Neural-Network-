{
  "cells": [
    {
      "cell_type": "markdown",
      "metadata": {
        "id": "Jf2zzP5LKmpR"
      },
      "source": [
        "#Gates"
      ]
    },
    {
      "cell_type": "code",
      "execution_count": 139,
      "metadata": {
        "id": "A6cqznZGKdCy"
      },
      "outputs": [],
      "source": [
        "import numpy as np\n",
        "\n",
        "class Gate:\n",
        "    def forward(self):\n",
        "        raise NotImplementedError\n",
        "\n",
        "    def backward(self):\n",
        "        raise NotImplementedError\n",
        "\n",
        "class AddGate(Gate):\n",
        "    def forward(self, x, y):\n",
        "        self.x = x\n",
        "        self.y = y\n",
        "        return x + y\n",
        "    def backward(self, dz):\n",
        "        dx = dz * np.ones_like(self.x)\n",
        "        dy = dz * np.ones_like(self.y)\n",
        "        return dy\n",
        "\n",
        "class MultiplyGate:\n",
        "    def forward(self, x, y):\n",
        "        self.x = x\n",
        "        self.y = y\n",
        "        return np.dot(x, y)\n",
        "\n",
        "    def backward(self, dz):\n",
        "        dz=dz.reshape(self.x.shape[0],1)\n",
        "        self.y=self.y.reshape(self.y.shape[0],1)\n",
        "\n",
        "        dx = np.dot(dz, self.y.T)\n",
        "        dy = np.dot(self.x.T, dz)\n",
        "        return dx, dy"
      ]
    },
    {
      "cell_type": "markdown",
      "metadata": {
        "id": "7bftLDqpK3i-"
      },
      "source": [
        "#Activation functions"
      ]
    },
    {
      "cell_type": "code",
      "execution_count": 140,
      "metadata": {
        "id": "Lu1ZpAPrK5xf"
      },
      "outputs": [],
      "source": [
        "class SoftmaxActivation(Gate):\n",
        "    def forward(self, x):\n",
        "        self.x = x\n",
        "        exp_x = np.exp(x - np.max(x, axis=-1, keepdims=True))\n",
        "        return exp_x / np.sum(exp_x, axis=-1, keepdims=True)\n",
        "\n",
        "    def backward(self, dz):\n",
        "        softmax_x = self.forward(self.x)\n",
        "        dx = dz * softmax_x * (1 - softmax_x)\n",
        "        return dx\n",
        "\n",
        "class SigmoidActivation(Gate):\n",
        "    def forward(self, x):\n",
        "        self.x = x\n",
        "        if x >= 0:\n",
        "          self.sig =  1. / ( 1. + np.exp(-x) )\n",
        "        else:\n",
        "          self.sig =  np.exp(x) / ( 1. + np.exp(x) )\n",
        "        print(f\"self.sig = {self.sig}\")\n",
        "        return self.sig\n",
        "\n",
        "    def backward(self, dz):\n",
        "        dx = dz * self.sig * (1 - self.sig)\n",
        "        return dx\n",
        "\n",
        "class ReLUActivation(Gate):\n",
        "    def forward(self, x):\n",
        "        self.x = x\n",
        "        return np.maximum(0, x)\n",
        "\n",
        "    def backward(self, dz):\n",
        "        print(f\"ReLU.x = {self.x}\")\n",
        "        dx = dz * np.where(self.x > 0, 1, 0)\n",
        "        return dx"
      ]
    },
    {
      "cell_type": "markdown",
      "metadata": {
        "id": "FhUsJ5myLKah"
      },
      "source": [
        "#Loss functions"
      ]
    },
    {
      "cell_type": "code",
      "execution_count": 141,
      "metadata": {
        "id": "YzxLvFG0LMkk"
      },
      "outputs": [],
      "source": [
        "class BinaryCrossEntropyLoss(Gate):\n",
        "    def forward(self, y_pred, y_true):\n",
        "        self.y_pred = y_pred.flatten()\n",
        "        epsilon = 1e-7\n",
        "        self.y_pred = np.clip(self.y_pred, epsilon, 1 - epsilon)\n",
        "        self.y_true = y_true\n",
        "        return -np.mean(self.y_true * np.log(self.y_pred) + (1 - self.y_true) * np.log(1 - self.y_pred))\n",
        "\n",
        "    def backward(self):\n",
        "        #dy_pred = - (self.y_true / self.y_pred) + ((1 - self.y_true) / (1 - self.y_pred))\n",
        "        dy_pred = (self.y_pred - self.y_true) / (self.y_pred * (1 - self.y_pred))\n",
        "        return dy_pred\n",
        "\n",
        "class L2Loss(Gate):\n",
        "    def forward(self, y_pred, y_true):\n",
        "        self.y_pred = y_pred\n",
        "        self.y_true = y_true\n",
        "        return 0.5 * np.mean((y_pred - y_true) ** 2)\n",
        "\n",
        "    def backward(self,y_pred, y_true):\n",
        "        dx = y_pred - y_true\n",
        "        return dx"
      ]
    },
    {
      "cell_type": "markdown",
      "metadata": {
        "id": "nJCidlPClgIJ"
      },
      "source": [
        "#My Model"
      ]
    },
    {
      "cell_type": "code",
      "execution_count": 142,
      "metadata": {
        "id": "mAzVaONAks3E"
      },
      "outputs": [],
      "source": [
        "class my_Model:\n",
        "  def __init__(self,layers_dim, actiation_func, loss):\n",
        "    self.layers=[]\n",
        "    self.layers_dim = layers_dim\n",
        "    self.num_layers=len(layers_dim)\n",
        "    self.grads=[]\n",
        "    self.weightsgrads=[]\n",
        "    self.biasgrads=[]\n",
        "\n",
        "    if len(layers_dim)!=len(actiation_func)+1:\n",
        "      raise ValueError(\"the number of layers is not equal to the number of activation funcs\")\n",
        "    for i in range(0,self.num_layers - 1):\n",
        "      layer=[]\n",
        "      layer.append(MultiplyGate())\n",
        "      layer.append(AddGate())\n",
        "\n",
        "      if actiation_func[i] =='sigmoid':\n",
        "        layer.append(SigmoidActivation())\n",
        "      if actiation_func[i] =='relu':\n",
        "        layer.append(ReLUActivation())\n",
        "      if actiation_func[i] =='softmax':\n",
        "        layer.append(SoftmaxActivation())\n",
        "\n",
        "      self.layers.append(layer)\n",
        "\n",
        "    if loss=='CE':\n",
        "      self.loss=BinaryCrossEntropyLoss()\n",
        "    elif loss=='L2':\n",
        "      self.loss=L2Loss()\n",
        "    self.parameters=self.initialise_parameters()\n",
        "\n",
        "  def initialise_parameters(self):\n",
        "    parameters = []\n",
        "    for i in range(1, self.num_layers):\n",
        "      weights = np.random.randn(self.layers_dim[i], self.layers_dim[i-1])\n",
        "      biases = np.random.randn(self.layers_dim[i])\n",
        "      layer_param = {'weights': weights, 'biases': biases}\n",
        "      parameters.append(layer_param)\n",
        "    return parameters\n",
        "\n",
        "  def forward(self, x):\n",
        "    for i in range(0,self.num_layers-1):\n",
        "      x = self.layers[i][0].forward(self.parameters[i]['weights'], x)\n",
        "      #print(f\"Layer {i+1},After multip: {x}\")\n",
        "      x = x.flatten()\n",
        "      x = self.layers[i][1].forward(x, self.parameters[i]['biases'])\n",
        "      #print(f\"Layer {i+1},After addition: {x}\")\n",
        "      x = self.layers[i][2].forward(x)\n",
        "      #print(f\"Layer {i+1},After activation: {x}\")\n",
        "    return(x)\n",
        "\n",
        "  def predict(self, X):\n",
        "    y_pred = []\n",
        "    X = np.array(X)\n",
        "    if not isinstance(X[0], np.ndarray):\n",
        "      y = self.forward(X)\n",
        "      y_pred.append(y)\n",
        "\n",
        "    else:\n",
        "      for i in range(len(X)):\n",
        "        y = self.forward(X[i])\n",
        "        y_pred.append(y)\n",
        "    y_pred = np.array(y_pred)\n",
        "    return (y_pred)\n",
        "\n",
        "  def backward(self, computed_loss):\n",
        "    self.grads.append(computed_loss)\n",
        "    dz = computed_loss #upstream gradient of last activation function\n",
        "    for i in range(self.num_layers - 2, -1, -1):\n",
        "      print(f\"layer {i + 1}\")\n",
        "      dz = self.layers[i][2].backward(dz)\n",
        "      print(f\"upstream grad of layer activation function = {dz}\")\n",
        "      db = self.layers[i][1].backward(dz)\n",
        "      print(f\"bias grad = {db}\")\n",
        "      dw, dz = self.layers[i][0].backward(dz)\n",
        "      print(f\"weights grad = {dw}\")\n",
        "      print(f\"upstream grad of next layer = {dz}\")\n",
        "\n",
        "      self.weightsgrads.append(dw)\n",
        "      self.biasgrads.append(db)\n",
        "      self.grads.append(dz)\n",
        "\n",
        "\n",
        "  def train(self, X_train, Y_train, learning_rate, num_epochs, gradient_descent_method='batch',batch_size=None,patience=10):\n",
        "    ss=[]\n",
        "    for i in range (0,num_epochs):\n",
        "\n",
        "      print(f\"\\nEpoch {i+1}:\")\n",
        "      if gradient_descent_method=='batch':\n",
        "        y_pred=self.predict(X_train)\n",
        "        loss=self.loss.forward(y_pred,Y_train)\n",
        "        print(f\"loss = {loss}\")\n",
        "        print(\"Starting back propagation\")\n",
        "        computed_loss=self.loss.backward()\n",
        "        computed_loss=np.array(computed_loss)\n",
        "        computed_loss=np.mean(computed_loss)\n",
        "        print(f\"upstream gradient of layer 2 func = {computed_loss}\")\n",
        "        self.backward(computed_loss)\n",
        "\n",
        "        self.update_parameters(learning_rate)\n",
        "        ss.append(loss)\n",
        "\n",
        "  def update_parameters(self,learning_rate):\n",
        "    parameters=[]\n",
        "    for i in range(0,len(self.parameters)):\n",
        "      #print(f\"old weights = {self.parameters[i]['weights'][0]}]\")\n",
        "      w=self.parameters[i]['weights']-learning_rate*self.weightsgrads[len(self.parameters)-i-1]\n",
        "      print(f\"new weights of layer {i+1} = {w[0]}\")\n",
        "\n",
        "      # print(\"output\",self.parameters[i]['weights'].shape)\n",
        "      s=np.array(self.biasgrads[len(self.parameters)-i-1])\n",
        "      b=self.parameters[i]['biases']-learning_rate*s\n",
        "      layer_param = {'weights': w, 'biases': b}\n",
        "      parameters.append(layer_param)\n",
        "    self.parameters=parameters"
      ]
    },
    {
      "cell_type": "markdown",
      "metadata": {
        "id": "hN3uDT1dlkh1"
      },
      "source": [
        "#Model"
      ]
    },
    {
      "cell_type": "code",
      "execution_count": 143,
      "metadata": {
        "id": "cKZTDcY3LXxb"
      },
      "outputs": [],
      "source": [
        "from sklearn.metrics import accuracy_score, mean_squared_error\n",
        "class Model:\n",
        "    def __init__(self,layers_dim, actiation_func, loss):\n",
        "        self.layers=[]\n",
        "        self.activFunc=[]\n",
        "        self.layers_dim = layers_dim\n",
        "        self.num_layers=len(layers_dim)\n",
        "        self.grads=[]\n",
        "        self.weightsgrads=[]\n",
        "        self.biasgrads=[]\n",
        "        self.stop_count=0\n",
        "\n",
        "        if len(layers_dim)!=len(actiation_func)+1:\n",
        "            raise ValueError(\"the number of layers is not equal to the number of activation funcs\")\n",
        "        for i in range(0,len(layers_dim)-1):\n",
        "            layer=[]\n",
        "            layer.append(MultiplyGate())\n",
        "            layer.append(AddGate())\n",
        "            self.layers.append(layer)\n",
        "        for i in range(0,len(actiation_func)):\n",
        "            if actiation_func[i] =='sigmoid':\n",
        "                self.activFunc.append(SigmoidActivation())\n",
        "            if actiation_func[i] =='relu':\n",
        "                self.activFunc.append(ReLUActivation())\n",
        "            if actiation_func[i] =='softmax':\n",
        "                self.activFunc.append(SoftmaxActivation())\n",
        "        if loss=='CE':\n",
        "            self.loss=BinaryCrossEntropyLoss()\n",
        "        elif loss=='L2':\n",
        "            self.loss=L2Loss()\n",
        "        self.parameters=self.initialise_parameters()\n",
        "\n",
        "    def initialise_parameters(self):\n",
        "        parameters = []\n",
        "        for i in range(1, len(self.layers_dim)):\n",
        "            weights = np.random.rand(self.layers_dim[i],self.layers_dim[i-1])\n",
        "            biases = np.random.rand(self.layers_dim[i])\n",
        "            layer_param = {'weights': weights, 'biases': biases}\n",
        "            parameters.append(layer_param)\n",
        "        return parameters\n",
        "\n",
        "    def forward(self, x):\n",
        "        for i in range(0,self.num_layers-1):\n",
        "            x = self.layers[i][0].forward(self.parameters[i]['weights'],x)\n",
        "            x = x.flatten()\n",
        "            x = self.layers[i][1].forward(x, self.parameters[i]['biases'])\n",
        "            x = self.activFunc[i].forward(x)\n",
        "\n",
        "        return(x)\n",
        "\n",
        "    def backward(self,losscomputed):\n",
        "        dy = losscomputed\n",
        "        self.grads.append(dy)\n",
        "        dz = dy #upstream gradient of last activation function\n",
        "        for i in range(self.num_layers-1, 0, -1):\n",
        "            print(f\"Flayer no {i+1}\")\n",
        "            dz = self.activFunc[i-1].backward(dz)\n",
        "            dz = dz.flatten()\n",
        "            if len(dz)==1:\n",
        "                dz=dz[0]\n",
        "            print(f\"dz = {dz}\")\n",
        "            db = self.layers[i-1][1].backward(dz)\n",
        "            dw,dz = self.layers[i-1][0].backward(dz)\n",
        "            self.weightsgrads.append(dw)\n",
        "            dz=dz.flatten()\n",
        "            self.biasgrads.append(db)\n",
        "            print(f\"weight gradients = {dw}\")\n",
        "            print(f\"bias gradients = {db}\")\n",
        "            self.grads.append(dz)\n",
        "\n",
        "    def train(self, X_train, Y_train, learning_rate, num_epochs, gradient_descent_method='batch',batch_size=None,patience=10):\n",
        "        ss=[]\n",
        "        learning_rate_sch = LearningRateScheduler('cosine', learning_rate, num_epochs)\n",
        "        for i in range (0,num_epochs):\n",
        "            self.dropout()\n",
        "            if gradient_descent_method=='batch':\n",
        "                y_pred=self.predict(X_train)\n",
        "                loss=self.loss.forward(y_pred,Y_train)\n",
        "                # print(loss)\n",
        "                computed_loss=self.loss.backward()\n",
        "                computed_loss=np.array(computed_loss)\n",
        "                computed_loss=np.mean(computed_loss)\n",
        "                # print(computed_loss)\n",
        "\n",
        "                self.backward(computed_loss)\n",
        "\n",
        "                self.update_parameters(learning_rate)\n",
        "                ss.append(loss)\n",
        "                # print(loss)\n",
        "                if self.check_early_stopping(ss):\n",
        "                    break\n",
        "\n",
        "            if gradient_descent_method=='stocastic_batch':\n",
        "                for j in range (0,len(X_train)):\n",
        "                    sample=[]\n",
        "                    sample.append(X_train[j])\n",
        "                    lr=0.1*self.learning_rate\n",
        "                    y_pred=self.predict(sample)\n",
        "                    loss=self.loss.forward(y_pred,Y_train[j])\n",
        "                    # print(loss)\n",
        "                    computed_loss=self.loss.backward()\n",
        "                    computed_loss=np.array(computed_loss)\n",
        "                    computed_loss=np.mean(computed_loss)\n",
        "                    # print(computed_loss)\n",
        "                    self.backward(computed_loss)\n",
        "                    self.update_parameters(lr)\n",
        "                    \n",
        "                    if j==len(X_train)-1:\n",
        "                        ss.append(loss)\n",
        "            if gradient_descent_method=='mini_batch':\n",
        "                loss=0\n",
        "                for j in range (0,len(X_train)//batch_size):\n",
        "                    samples=[]\n",
        "                    labels=[]\n",
        "                    for k in range (0,batch_size):\n",
        "                        samples.append(X_train[batch_size*j+k])\n",
        "                        labels.append(Y_train[batch_size*j+k])\n",
        "                    y_pred=self.predict(samples)\n",
        "                    loss=self.loss.forward(y_pred,labels)\n",
        "                    # print(loss)\n",
        "                    computed_loss=self.loss.backward()\n",
        "                    computed_loss=np.array(computed_loss)\n",
        "                    computed_loss=np.mean(computed_loss)\n",
        "                    # print(computed_loss)\n",
        "                    self.backward(computed_loss)\n",
        "\n",
        "                    self.update_parameters(learning_rate)\n",
        "                ss.append(loss)\n",
        "\n",
        "\n",
        "            learning_rate = learning_rate_sch.update_learning_rate(current_epoch=i + 1)\n",
        "            \n",
        "\n",
        "        return ss\n",
        "    def check_early_stopping(self,loss):\n",
        "        if len(loss)>2:\n",
        "            if loss[-2]<loss[-1]:\n",
        "                self.stop_count+=1\n",
        "            else:\n",
        "                self.stop_count=0\n",
        "        if self.stop_count>10:\n",
        "            return True\n",
        "        return False\n",
        "\n",
        "    def dropout(self):\n",
        "        for i in range(0,len(self.parameters)):\n",
        "            for j in range(0,(self.parameters[i]['weights'].shape[0])):\n",
        "                for k in range(0,(self.parameters[i]['weights'].shape[1])):\n",
        "                \n",
        "                    if np.random.randn(0,5)<0.2:\n",
        "                        self.parameters[i]['weights'][j][k]=0\n",
        "                if np.random.randn(0,5)<0.2:\n",
        "                    self.parameters[i]['biases'][j]=0\n",
        "\n",
        "        \n",
        "        pass\n",
        "    def update_parameters(self,learning_rate):\n",
        "        parameters=[]\n",
        "        for i in range(0,len(self.parameters)):\n",
        "            #print(f\"old weights = {self.parameters[i]['weights'][0]}]\")\n",
        "            w=self.parameters[i]['weights']-learning_rate*self.weightsgrads[len(self.parameters)-i-1]\n",
        "            print(f\"new weights of layer {i+1} = {w[0]}\")\n",
        "\n",
        "            # print(\"output\",self.parameters[i]['weights'].shape)\n",
        "            s=np.array(self.biasgrads[len(self.parameters)-i-1])\n",
        "            b=self.parameters[i]['biases']-learning_rate*s\n",
        "            layer_param = {'weights': w, 'biases': b}\n",
        "            parameters.append(layer_param)\n",
        "        self.parameters=parameters\n",
        "\n",
        "    def predict(self, X):\n",
        "        y_pred=[]\n",
        "        for i in range(0,len(X)):\n",
        "            y=self.forward(X[i])\n",
        "            y_pred.append(y)\n",
        "        y_pred=np.array(y_pred)\n",
        "        return (y_pred)\n",
        "\n",
        "    def score(self, X, y_true):\n",
        "      y_pred = self.predict(X)\n",
        "\n",
        "      if self.activFunc[-1] == 'sigmoid' or self.activFunc[-1] == 'softmax':  # If problem is classification\n",
        "        accuracy = accuracy_score(y_true, y_pred)\n",
        "        return accuracy\n",
        "      else:  # If problem is regression\n",
        "        mse = mean_squared_error(y_true, y_pred)\n",
        "        return mse"
      ]
    },
    {
      "cell_type": "markdown",
      "metadata": {
        "id": "ut350xMRLfyh"
      },
      "source": [
        "#Test"
      ]
    },
    {
      "cell_type": "code",
      "execution_count": 144,
      "metadata": {
        "id": "c4eK_aUxLhd2"
      },
      "outputs": [],
      "source": [
        "import pandas as pd\n",
        "from sklearn.preprocessing import MinMaxScaler\n",
        "\n",
        "dataset=pd.read_csv(\"training_data.csv\")\n",
        "start = 0\n",
        "end = 2\n",
        "X = dataset.iloc[start:end, -3:-1].values\n",
        "y = dataset.iloc[start:end, -1].values\n",
        "\n",
        "min_max_scaler = MinMaxScaler()\n",
        "X = min_max_scaler.fit_transform(X)\n",
        "\n",
        "\n",
        "X_test = [\n",
        "    [0, 0],\n",
        "    [120, 1],\n",
        "    [130, 1],\n",
        "    ]"
      ]
    },
    {
      "cell_type": "code",
      "execution_count": 152,
      "metadata": {},
      "outputs": [
        {
          "data": {
            "image/png": "[encoded data removed]",
            "text/plain": [
              "<Figure size 640x480 with 1 Axes>"
            ]
          },
          "metadata": {},
          "output_type": "display_data"
        }
      ],
      "source": [
        "import matplotlib.pyplot as plt\n",
        "xplot=[]\n",
        "for i in range(0,len(losses)):\n",
        "    xplot.append(i+1)\n",
        "xplot=np.array(xplot)\n",
        "plt.plot(xplot, losses)\n",
        "plt.show()"
      ]
    },
    {
      "cell_type": "code",
      "execution_count": null,
      "metadata": {
        "colab": {
          "base_uri": "https://localhost:8080/"
        },
        "id": "6ktdVeWRr0cE",
        "outputId": "8f616a3b-a465-4ea8-d1e5-2dfccfd57692"
      },
      "outputs": [],
      "source": []
    },
    {
      "cell_type": "code",
      "execution_count": 148,
      "metadata": {
        "colab": {
          "base_uri": "https://localhost:8080/"
        },
        "id": "hvND-k_foGf_",
        "outputId": "b13df161-c930-49fa-9c0a-26e5e7581f8b"
      },
      "outputs": [
        {
          "name": "stdout",
          "output_type": "stream",
          "text": [
            "self.sig = [0.99999834]\n",
            "self.sig = [1.]\n",
            "self.sig = [1.]\n",
            "[[0.99999834]\n",
            " [1.        ]\n",
            " [1.        ]]\n"
          ]
        }
      ],
      "source": [
        "print(k.predict(X_test))"
      ]
    },
    {
      "cell_type": "markdown",
      "metadata": {
        "id": "bF-2uZaA3hdM"
      },
      "source": [
        "#Hyperparameter tuning"
      ]
    },
    {
      "cell_type": "code",
      "execution_count": 149,
      "metadata": {
        "colab": {
          "base_uri": "https://localhost:8080/",
          "height": 332
        },
        "id": "MOXqJlv03hBN",
        "outputId": "7f44eb7f-d46c-4caa-ad4e-3c0e5682ae75"
      },
      "outputs": [
        {
          "ename": "ValueError",
          "evalue": "the number of layers is not equal to the number of activation funcs",
          "output_type": "error",
          "traceback": [
            "\u001b[1;31m---------------------------------------------------------------------------\u001b[0m",
            "\u001b[1;31mValueError\u001b[0m                                Traceback (most recent call last)",
            "Cell \u001b[1;32mIn[149], line 28\u001b[0m\n\u001b[0;32m     25\u001b[0m   fun\u001b[38;5;241m.\u001b[39mappend(\u001b[38;5;124m'\u001b[39m\u001b[38;5;124mrelu\u001b[39m\u001b[38;5;124m'\u001b[39m) \u001b[38;5;66;03m# activation functions of hidden layers\u001b[39;00m\n\u001b[0;32m     26\u001b[0m fun\u001b[38;5;241m.\u001b[39mappend(\u001b[38;5;124m'\u001b[39m\u001b[38;5;124msigmoid\u001b[39m\u001b[38;5;124m'\u001b[39m) \u001b[38;5;66;03m# activation function of output layer\u001b[39;00m\n\u001b[1;32m---> 28\u001b[0m network \u001b[38;5;241m=\u001b[39m \u001b[43mmy_Model\u001b[49m\u001b[43m(\u001b[49m\u001b[43mdim\u001b[49m\u001b[43m,\u001b[49m\u001b[43mfun\u001b[49m\u001b[43m,\u001b[49m\u001b[43mloss\u001b[49m\u001b[43m)\u001b[49m\n\u001b[0;32m     29\u001b[0m k\u001b[38;5;241m.\u001b[39mtrain(X,y,num_epochs\u001b[38;5;241m=\u001b[39mnumber_of_epochs,learning_rate\u001b[38;5;241m=\u001b[39mlearning_rate, batch_size\u001b[38;5;241m=\u001b[39mbatch_size)\n\u001b[0;32m     30\u001b[0m score \u001b[38;5;241m=\u001b[39m k\u001b[38;5;241m.\u001b[39mscore(X_test, y_test)\n",
            "Cell \u001b[1;32mIn[142], line 11\u001b[0m, in \u001b[0;36mmy_Model.__init__\u001b[1;34m(self, layers_dim, actiation_func, loss)\u001b[0m\n\u001b[0;32m      8\u001b[0m \u001b[38;5;28mself\u001b[39m\u001b[38;5;241m.\u001b[39mbiasgrads\u001b[38;5;241m=\u001b[39m[]\n\u001b[0;32m     10\u001b[0m \u001b[38;5;28;01mif\u001b[39;00m \u001b[38;5;28mlen\u001b[39m(layers_dim)\u001b[38;5;241m!=\u001b[39m\u001b[38;5;28mlen\u001b[39m(actiation_func)\u001b[38;5;241m+\u001b[39m\u001b[38;5;241m1\u001b[39m:\n\u001b[1;32m---> 11\u001b[0m   \u001b[38;5;28;01mraise\u001b[39;00m \u001b[38;5;167;01mValueError\u001b[39;00m(\u001b[38;5;124m\"\u001b[39m\u001b[38;5;124mthe number of layers is not equal to the number of activation funcs\u001b[39m\u001b[38;5;124m\"\u001b[39m)\n\u001b[0;32m     12\u001b[0m \u001b[38;5;28;01mfor\u001b[39;00m i \u001b[38;5;129;01min\u001b[39;00m \u001b[38;5;28mrange\u001b[39m(\u001b[38;5;241m0\u001b[39m,\u001b[38;5;28mself\u001b[39m\u001b[38;5;241m.\u001b[39mnum_layers \u001b[38;5;241m-\u001b[39m \u001b[38;5;241m1\u001b[39m):\n\u001b[0;32m     13\u001b[0m   layer\u001b[38;5;241m=\u001b[39m[]\n",
            "\u001b[1;31mValueError\u001b[0m: the number of layers is not equal to the number of activation funcs"
          ]
        }
      ],
      "source": [
        "parameters_grid = {\n",
        "    'learning_rate': [1, 0.1, 0.01],\n",
        "    'batch_size': [16, 32, 64, 128],\n",
        "    'loss': ['CE', 'L2'],\n",
        "    'number_of_hidden_layers': [1, 2, 3],\n",
        "    'number_of_neurons_per_hidden_layer': [2, 3, 5, 10],\n",
        "    'epochs': [10, 50, 100]\n",
        "}\n",
        "\n",
        "max_score = 0\n",
        "preferred_parameters = {}\n",
        "\n",
        "for learning_rate in parameters_grid['learning_rate']:\n",
        "  for batch_size in range(len(parameters_grid['batch_size'])):\n",
        "    for loss in range(len(parameters_grid['loss'])):\n",
        "      for number_of_hidden_layers in parameters_grid['number_of_hidden_layers']:\n",
        "        for number_of_neurons in parameters_grid['number_of_neurons_per_hidden_layer']:\n",
        "          for number_of_epochs in parameters_grid['number_of_neurons_per_hidden_layer']:\n",
        "\n",
        "            dim = [len(X[0])]\n",
        "            fun = []\n",
        "\n",
        "            for a in range(number_of_hidden_layers):\n",
        "              dim.append(number_of_neurons)\n",
        "              fun.append('relu') # activation functions of hidden layers\n",
        "            fun.append('sigmoid') # activation function of output layer\n",
        "\n",
        "            network = my_Model(dim,fun,loss)\n",
        "            k.train(X,y,num_epochs=number_of_epochs,learning_rate=learning_rate, batch_size=batch_size)\n",
        "            score = k.score(X_test, y_test)\n",
        "\n",
        "            if score > max_score:\n",
        "                max_score = score\n",
        "                preferred_parameters = {\n",
        "                  'learning_rate': learning_rate,\n",
        "                  'batch_size': batch_size,\n",
        "                  'loss': loss,\n",
        "                  'number_of_hidden_layers': number_of_hidden_layers,\n",
        "                  'number_of_neurons_per_hidden_layer': number_of_neurons,\n",
        "                  'epochs':number_of_epochs,\n",
        "                }\n",
        "\n",
        "print(f\"Max score of {max_score} achieved at parameters: {preferred_parameters}\")"
      ]
    },
    {
      "cell_type": "markdown",
      "metadata": {
        "id": "H-jxkO7LFkf2"
      },
      "source": [
        "#Learning Rate Scheduling"
      ]
    },
    {
      "cell_type": "code",
      "execution_count": null,
      "metadata": {
        "id": "rR3eq1qKFjxY"
      },
      "outputs": [],
      "source": [
        "class LearningRateScheduler:\n",
        "  def __init__(self, decay_type, learning_rate, total_epochs):\n",
        "    self.decay_type = decay_type\n",
        "    self.learning_rate = learning_rate\n",
        "    self.total_epochs = total_epochs\n",
        "\n",
        "  def update_learning_rate(self, current_epoch):\n",
        "    if self.decay_type == 'cosine':\n",
        "      new_learning_rate = 0.5 * self.learning_rate * (1 + np.cos((current_epoch * np.pi) / self.total_epochs))\n",
        "    elif self.decay_type == 'linear':\n",
        "      new_learning_rate = self.learning_rate * (1 - (current_epoch / self.total_epochs))\n",
        "    elif self.decay_type == 'inverse sqrt':\n",
        "      new_learning_rate = self.learning_rate / np.sqrt(current_epoch)\n",
        "\n",
        "    return new_learning_rate"
      ]
    },
    {
      "cell_type": "code",
      "execution_count": null,
      "metadata": {
        "colab": {
          "base_uri": "https://localhost:8080/",
          "height": 430
        },
        "id": "JCrXyxcJRmwh",
        "outputId": "f1c4e868-57c9-46b2-d1ae-e00c7a6bf5d8"
      },
      "outputs": [
        {
          "data": {
            "image/png": "[encoded data removed]",
            "text/plain": [
              "<Figure size 640x480 with 1 Axes>"
            ]
          },
          "metadata": {},
          "output_type": "display_data"
        }
      ],
      "source": []
    }
  ],
  "metadata": {
    "colab": {
      "provenance": []
    },
    "kernelspec": {
      "display_name": "Python 3",
      "name": "python3"
    },
    "language_info": {
      "codemirror_mode": {
        "name": "ipython",
        "version": 3
      },
      "file_extension": ".py",
      "mimetype": "text/x-python",
      "name": "python",
      "nbconvert_exporter": "python",
      "pygments_lexer": "ipython3",
      "version": "3.10.5"
    }
  },
  "nbformat": 4,
  "nbformat_minor": 0
}
